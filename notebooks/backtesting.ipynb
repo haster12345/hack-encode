{
 "cells": [
  {
   "cell_type": "code",
   "id": "initial_id",
   "metadata": {
    "collapsed": true,
    "ExecuteTime": {
     "end_time": "2024-10-27T10:25:09.891973Z",
     "start_time": "2024-10-27T10:25:09.886546Z"
    }
   },
   "source": [
    "import matplotlib.pyplot as plt\n",
    "import pandas as pd\n",
    "from src.predictions import back_test\n",
    "\n",
    "df = pd.read_csv(r'../stonks.csv')"
   ],
   "outputs": [],
   "execution_count": 12
  },
  {
   "metadata": {
    "ExecuteTime": {
     "end_time": "2024-10-27T10:19:14.249142Z",
     "start_time": "2024-10-27T10:19:14.243210Z"
    }
   },
   "cell_type": "code",
   "source": [
    "df_subset = df.iloc[:20]\n",
    "df_subset"
   ],
   "id": "a88270b7dd5a9fed",
   "outputs": [
    {
     "data": {
      "text/plain": [
       "          Date                                              Title  \\\n",
       "0   2024-01-01  Tech Innovators Inc. Releases Groundbreaking A...   \n",
       "1   2024-01-02  Market Analysis: The Rise of Renewable Energy ...   \n",
       "2   2024-01-03  Economic Outlook 2024: What Investors Need to ...   \n",
       "3   2024-01-04  Earnings Report: Tech Giants Outperform Expect...   \n",
       "4   2024-01-05      Global Markets React to Interest Rate Changes   \n",
       "5   2024-01-06           Investing in 2024: Top 5 Stocks to Watch   \n",
       "6   2024-01-07           Cryptocurrency Boom: Is It Here to Stay?   \n",
       "7   2024-01-08    Mergers and Acquisitions: A Look at 2024 Trends   \n",
       "8   2024-01-09  Sustainable Investing: Aligning Profit with Pu...   \n",
       "9   2024-01-10  Tech Stocks: The Future of Innovation and Inve...   \n",
       "10  2024-01-11       The Impact of Inflation on Consumer Spending   \n",
       "11  2024-01-12          Market Insights: The Future of E-commerce   \n",
       "12  2024-01-13  Financial Literacy: Empowering the Next Genera...   \n",
       "13  2024-01-14      Healthcare Stocks: Innovations Driving Growth   \n",
       "14  2024-01-15     The Role of Artificial Intelligence in Finance   \n",
       "15  2024-01-16  Impact of Climate Change on Investment Strategies   \n",
       "16  2024-01-17      How to Build a Resilient Investment Portfolio   \n",
       "17  2024-01-18       The Rise of Fintech: Revolutionizing Banking   \n",
       "18  2024-01-19              Understanding Stock Market Volatility   \n",
       "19  2024-01-20  Global Supply Chain Disruptions: What It Means...   \n",
       "\n",
       "                                              Article   Price  \n",
       "0   Tech Innovators Inc. has announced the launch ...  102.55  \n",
       "1   Analysts predict a significant increase in ren...  103.60  \n",
       "2   Experts share insights on the economic trends ...  104.56  \n",
       "3   The latest earnings reports show that major te...  103.08  \n",
       "4   Global stock markets experience volatility fol...  100.08  \n",
       "5   Financial advisors reveal the top stocks to wa...  100.31  \n",
       "6   The cryptocurrency market continues to gain tr...   99.03  \n",
       "7   A comprehensive analysis of the mergers and ac...   98.39  \n",
       "8   Investors are increasingly looking for ways to...   98.51  \n",
       "9   A deep dive into the tech sector, examining th...   98.47  \n",
       "10  Experts analyze the effects of rising inflatio...   98.18  \n",
       "11  E-commerce continues to thrive as consumers sh...   96.56  \n",
       "12  Educational initiatives are being launched to ...   96.21  \n",
       "13  The healthcare sector sees an increase in stoc...   94.46  \n",
       "14  Financial institutions are leveraging AI techn...   97.08  \n",
       "15  Investors are reevaluating their strategies in...   96.21  \n",
       "16  Experts share tips on creating a diversified p...   97.18  \n",
       "17  Fintech companies are disrupting traditional b...   97.48  \n",
       "18  Analysts explain the causes of stock market vo...   98.26  \n",
       "19  Investors need to consider the impact of globa...   99.51  "
      ],
      "text/html": [
       "<div>\n",
       "<style scoped>\n",
       "    .dataframe tbody tr th:only-of-type {\n",
       "        vertical-align: middle;\n",
       "    }\n",
       "\n",
       "    .dataframe tbody tr th {\n",
       "        vertical-align: top;\n",
       "    }\n",
       "\n",
       "    .dataframe thead th {\n",
       "        text-align: right;\n",
       "    }\n",
       "</style>\n",
       "<table border=\"1\" class=\"dataframe\">\n",
       "  <thead>\n",
       "    <tr style=\"text-align: right;\">\n",
       "      <th></th>\n",
       "      <th>Date</th>\n",
       "      <th>Title</th>\n",
       "      <th>Article</th>\n",
       "      <th>Price</th>\n",
       "    </tr>\n",
       "  </thead>\n",
       "  <tbody>\n",
       "    <tr>\n",
       "      <th>0</th>\n",
       "      <td>2024-01-01</td>\n",
       "      <td>Tech Innovators Inc. Releases Groundbreaking A...</td>\n",
       "      <td>Tech Innovators Inc. has announced the launch ...</td>\n",
       "      <td>102.55</td>\n",
       "    </tr>\n",
       "    <tr>\n",
       "      <th>1</th>\n",
       "      <td>2024-01-02</td>\n",
       "      <td>Market Analysis: The Rise of Renewable Energy ...</td>\n",
       "      <td>Analysts predict a significant increase in ren...</td>\n",
       "      <td>103.60</td>\n",
       "    </tr>\n",
       "    <tr>\n",
       "      <th>2</th>\n",
       "      <td>2024-01-03</td>\n",
       "      <td>Economic Outlook 2024: What Investors Need to ...</td>\n",
       "      <td>Experts share insights on the economic trends ...</td>\n",
       "      <td>104.56</td>\n",
       "    </tr>\n",
       "    <tr>\n",
       "      <th>3</th>\n",
       "      <td>2024-01-04</td>\n",
       "      <td>Earnings Report: Tech Giants Outperform Expect...</td>\n",
       "      <td>The latest earnings reports show that major te...</td>\n",
       "      <td>103.08</td>\n",
       "    </tr>\n",
       "    <tr>\n",
       "      <th>4</th>\n",
       "      <td>2024-01-05</td>\n",
       "      <td>Global Markets React to Interest Rate Changes</td>\n",
       "      <td>Global stock markets experience volatility fol...</td>\n",
       "      <td>100.08</td>\n",
       "    </tr>\n",
       "    <tr>\n",
       "      <th>5</th>\n",
       "      <td>2024-01-06</td>\n",
       "      <td>Investing in 2024: Top 5 Stocks to Watch</td>\n",
       "      <td>Financial advisors reveal the top stocks to wa...</td>\n",
       "      <td>100.31</td>\n",
       "    </tr>\n",
       "    <tr>\n",
       "      <th>6</th>\n",
       "      <td>2024-01-07</td>\n",
       "      <td>Cryptocurrency Boom: Is It Here to Stay?</td>\n",
       "      <td>The cryptocurrency market continues to gain tr...</td>\n",
       "      <td>99.03</td>\n",
       "    </tr>\n",
       "    <tr>\n",
       "      <th>7</th>\n",
       "      <td>2024-01-08</td>\n",
       "      <td>Mergers and Acquisitions: A Look at 2024 Trends</td>\n",
       "      <td>A comprehensive analysis of the mergers and ac...</td>\n",
       "      <td>98.39</td>\n",
       "    </tr>\n",
       "    <tr>\n",
       "      <th>8</th>\n",
       "      <td>2024-01-09</td>\n",
       "      <td>Sustainable Investing: Aligning Profit with Pu...</td>\n",
       "      <td>Investors are increasingly looking for ways to...</td>\n",
       "      <td>98.51</td>\n",
       "    </tr>\n",
       "    <tr>\n",
       "      <th>9</th>\n",
       "      <td>2024-01-10</td>\n",
       "      <td>Tech Stocks: The Future of Innovation and Inve...</td>\n",
       "      <td>A deep dive into the tech sector, examining th...</td>\n",
       "      <td>98.47</td>\n",
       "    </tr>\n",
       "    <tr>\n",
       "      <th>10</th>\n",
       "      <td>2024-01-11</td>\n",
       "      <td>The Impact of Inflation on Consumer Spending</td>\n",
       "      <td>Experts analyze the effects of rising inflatio...</td>\n",
       "      <td>98.18</td>\n",
       "    </tr>\n",
       "    <tr>\n",
       "      <th>11</th>\n",
       "      <td>2024-01-12</td>\n",
       "      <td>Market Insights: The Future of E-commerce</td>\n",
       "      <td>E-commerce continues to thrive as consumers sh...</td>\n",
       "      <td>96.56</td>\n",
       "    </tr>\n",
       "    <tr>\n",
       "      <th>12</th>\n",
       "      <td>2024-01-13</td>\n",
       "      <td>Financial Literacy: Empowering the Next Genera...</td>\n",
       "      <td>Educational initiatives are being launched to ...</td>\n",
       "      <td>96.21</td>\n",
       "    </tr>\n",
       "    <tr>\n",
       "      <th>13</th>\n",
       "      <td>2024-01-14</td>\n",
       "      <td>Healthcare Stocks: Innovations Driving Growth</td>\n",
       "      <td>The healthcare sector sees an increase in stoc...</td>\n",
       "      <td>94.46</td>\n",
       "    </tr>\n",
       "    <tr>\n",
       "      <th>14</th>\n",
       "      <td>2024-01-15</td>\n",
       "      <td>The Role of Artificial Intelligence in Finance</td>\n",
       "      <td>Financial institutions are leveraging AI techn...</td>\n",
       "      <td>97.08</td>\n",
       "    </tr>\n",
       "    <tr>\n",
       "      <th>15</th>\n",
       "      <td>2024-01-16</td>\n",
       "      <td>Impact of Climate Change on Investment Strategies</td>\n",
       "      <td>Investors are reevaluating their strategies in...</td>\n",
       "      <td>96.21</td>\n",
       "    </tr>\n",
       "    <tr>\n",
       "      <th>16</th>\n",
       "      <td>2024-01-17</td>\n",
       "      <td>How to Build a Resilient Investment Portfolio</td>\n",
       "      <td>Experts share tips on creating a diversified p...</td>\n",
       "      <td>97.18</td>\n",
       "    </tr>\n",
       "    <tr>\n",
       "      <th>17</th>\n",
       "      <td>2024-01-18</td>\n",
       "      <td>The Rise of Fintech: Revolutionizing Banking</td>\n",
       "      <td>Fintech companies are disrupting traditional b...</td>\n",
       "      <td>97.48</td>\n",
       "    </tr>\n",
       "    <tr>\n",
       "      <th>18</th>\n",
       "      <td>2024-01-19</td>\n",
       "      <td>Understanding Stock Market Volatility</td>\n",
       "      <td>Analysts explain the causes of stock market vo...</td>\n",
       "      <td>98.26</td>\n",
       "    </tr>\n",
       "    <tr>\n",
       "      <th>19</th>\n",
       "      <td>2024-01-20</td>\n",
       "      <td>Global Supply Chain Disruptions: What It Means...</td>\n",
       "      <td>Investors need to consider the impact of globa...</td>\n",
       "      <td>99.51</td>\n",
       "    </tr>\n",
       "  </tbody>\n",
       "</table>\n",
       "</div>"
      ]
     },
     "execution_count": 2,
     "metadata": {},
     "output_type": "execute_result"
    }
   ],
   "execution_count": 2
  },
  {
   "metadata": {
    "ExecuteTime": {
     "end_time": "2024-10-27T10:20:31.689475Z",
     "start_time": "2024-10-27T10:19:14.249863Z"
    }
   },
   "cell_type": "code",
   "source": "return_values = back_test(df_subset)",
   "id": "46b025b90091c375",
   "outputs": [
    {
     "name": "stdout",
     "output_type": "stream",
     "text": [
      "Connecting to proxy localhost:50050\n"
     ]
    }
   ],
   "execution_count": 3
  },
  {
   "metadata": {
    "ExecuteTime": {
     "end_time": "2024-10-27T10:20:31.694583Z",
     "start_time": "2024-10-27T10:20:31.690919Z"
    }
   },
   "cell_type": "code",
   "source": "return_values",
   "id": "8b1099e8acdbf69",
   "outputs": [
    {
     "data": {
      "text/plain": [
       "[1,\n",
       " 1.00105,\n",
       " 1.00297,\n",
       " 0.9985299999999999,\n",
       " 0.98653,\n",
       " 0.9876799999999999,\n",
       " 0.9799999999999998,\n",
       " 0.9755199999999997,\n",
       " 0.9764799999999998,\n",
       " 0.9761199999999998,\n",
       " 0.9735099999999999,\n",
       " 0.9589299999999998,\n",
       " 0.9557799999999997,\n",
       " 0.9400299999999997,\n",
       " 0.9636099999999997,\n",
       " 0.9557799999999997,\n",
       " 0.9645099999999998,\n",
       " 0.9672099999999997,\n",
       " 0.9742299999999997,\n",
       " 0.9854799999999997]"
      ]
     },
     "execution_count": 4,
     "metadata": {},
     "output_type": "execute_result"
    }
   ],
   "execution_count": 4
  },
  {
   "metadata": {
    "ExecuteTime": {
     "end_time": "2024-10-27T10:20:31.701356Z",
     "start_time": "2024-10-27T10:20:31.697203Z"
    }
   },
   "cell_type": "code",
   "source": [
    "df_subset['returns'] = pd.Series(\n",
    "    return_values, \n",
    "    index=df_subset.index)\n",
    "df_subset['returns'] = df_subset['Price'].iloc[0]*df_subset['returns']"
   ],
   "id": "ca04f33188ef8847",
   "outputs": [
    {
     "name": "stderr",
     "output_type": "stream",
     "text": [
      "/var/folders/jl/5y6t_mdn7s7c6vmy_jl8hphh0000gn/T/ipykernel_15726/1987339565.py:1: SettingWithCopyWarning: \n",
      "A value is trying to be set on a copy of a slice from a DataFrame.\n",
      "Try using .loc[row_indexer,col_indexer] = value instead\n",
      "\n",
      "See the caveats in the documentation: https://pandas.pydata.org/pandas-docs/stable/user_guide/indexing.html#returning-a-view-versus-a-copy\n",
      "  df_subset['returns'] = pd.Series(\n",
      "/var/folders/jl/5y6t_mdn7s7c6vmy_jl8hphh0000gn/T/ipykernel_15726/1987339565.py:4: SettingWithCopyWarning: \n",
      "A value is trying to be set on a copy of a slice from a DataFrame.\n",
      "Try using .loc[row_indexer,col_indexer] = value instead\n",
      "\n",
      "See the caveats in the documentation: https://pandas.pydata.org/pandas-docs/stable/user_guide/indexing.html#returning-a-view-versus-a-copy\n",
      "  df_subset['returns'] = df_subset['Price'].iloc[0]*df_subset['returns']\n"
     ]
    }
   ],
   "execution_count": 5
  },
  {
   "metadata": {
    "ExecuteTime": {
     "end_time": "2024-10-27T10:26:51.399481Z",
     "start_time": "2024-10-27T10:26:51.319680Z"
    }
   },
   "cell_type": "code",
   "source": [
    "df_subset.plot(x='Date', y=['Price', 'returns'], title='Back-tested Results of Algorithm', label=['Stock Price', 'Returns'])\n",
    "plt.ylabel('Price')"
   ],
   "id": "b532ea191b82ba93",
   "outputs": [
    {
     "data": {
      "text/plain": [
       "Text(0, 0.5, 'Price')"
      ]
     },
     "execution_count": 16,
     "metadata": {},
     "output_type": "execute_result"
    },
    {
     "data": {
      "text/plain": [
       "<Figure size 640x480 with 1 Axes>"
      ],
      "image/png": "[encoded data removed]"
     },
     "metadata": {},
     "output_type": "display_data"
    }
   ],
   "execution_count": 16
  },
  {
   "metadata": {},
   "cell_type": "code",
   "outputs": [],
   "execution_count": null,
   "source": "",
   "id": "1762e319fade6e2e"
  }
 ],
 "metadata": {
  "kernelspec": {
   "display_name": "Python 3",
   "language": "python",
   "name": "python3"
  },
  "language_info": {
   "codemirror_mode": {
    "name": "ipython",
    "version": 2
   },
   "file_extension": ".py",
   "mimetype": "text/x-python",
   "name": "python",
   "nbconvert_exporter": "python",
   "pygments_lexer": "ipython2",
   "version": "2.7.6"
  }
 },
 "nbformat": 4,
 "nbformat_minor": 5
}
